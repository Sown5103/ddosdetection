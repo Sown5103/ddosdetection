{
 "cells": [
  {
   "cell_type": "code",
   "execution_count": 2,
   "metadata": {},
   "outputs": [],
   "source": [
    "\n",
    "import pandas as pd\n",
    "import numpy as np\n",
    "import matplotlib.pyplot as plt\n",
    "from sklearn.model_selection import train_test_split\n",
    "from sklearn.preprocessing import StandardScaler\n",
    "from sklearn.svm import SVC\n",
    "from sklearn.metrics import accuracy_score,confusion_matrix\n",
    "from sklearn.neighbors import KNeighborsClassifier\n",
    "from sklearn.naive_bayes import GaussianNB\n",
    "from sklearn.ensemble import RandomForestClassifier\n",
    "import arff as arf\n",
    "import seaborn as sns"
   ]
  },
  {
   "cell_type": "code",
   "execution_count": 3,
   "metadata": {},
   "outputs": [],
   "source": [
    "file=open(\"final-dataset.arff\")\n",
    "decoder=arf.ArffDecoder()\n",
    "data=decoder.decode(file,encode_nominal=True)\n",
    "#file = open(\"final-dataset.arff\"): Dòng này mở file có tên là \"final-dataset.arff\" trong chế độ đọc (\"r\"), và kết quả được gán cho biến file.\n",
    "#decoder = arff.ArffDecoder(): Dòng này tạo một đối tượng của lớp ArffDecoder từ module arff. Đối tượng này sẽ được sử dụng để giải mã nội dung của file ARFF.\n",
    "#data = decoder.decode(file, encode_nominal=True): Dòng này sử dụng đối tượng decoder để giải mã nội dung của file ARFF được mở từ biến file. Tham số encode_nominal=True có thể có nghĩa là muốn mã hóa các giá trị thuộc tính phổ biến dưới dạng số nguyên."
   ]
  },
  {
   "cell_type": "code",
   "execution_count": 4,
   "metadata": {},
   "outputs": [],
   "source": [
    "vals=[val[0:-1] for val in data['data']]\n",
    "labels=[lab[-1] for lab in data['data']]\n",
    "#Đoạn mã mà bạn đã cung cấp đang thực hiện việc trích xuất giá trị và nhãn từ dữ liệu được giải mã từ file ARFF, được lưu trữ trong biến data. Dưới đây là giải thích chi tiết về đoạn mã này:\n",
    "#vals = [val[0:-1] for val in data['data']]: Dòng này tạo một danh sách (list) mới có tên là vals. Đối với mỗi dòng dữ liệu trong data['data'], nó sử dụng một slice val[0:-1] để lấy tất cả các phần tử từ phần đầu đến phần kể từ cuối, loại bỏ phần tử cuối cùng. Kết quả là danh sách vals sẽ chứa các giá trị của thuộc tính trong mỗi dòng dữ liệu.\n",
    "#labels = [lab[-1] for lab in data['data']]: Dòng này tương tự, nhưng nó tạo một danh sách mới có tên là labels. Đối với mỗi dòng dữ liệu trong data['data'], nó sử dụng lab[-1] để lấy phần tử cuối cùng của dòng đó, chính là nhãn của dữ liệu.\n",
    "#Sau khi thực hiện hai dòng mã trên, bạn sẽ có hai danh sách vals và labels. Danh sách vals chứa các giá trị thuộc tính của từng dòng dữ liệu, và danh sách labels chứa các nhãn tương ứng với mỗi dòng dữ liệu."
   ]
  },
  {
   "cell_type": "code",
   "execution_count": 5,
   "metadata": {},
   "outputs": [],
   "source": [
    "da=set(labels)\n",
    "brac=600\n",
    "templ=[]\n",
    "tempd=[]\n",
    "for i in da:\n",
    "    coun=0\n",
    "    while coun<brac:\n",
    "        for j in range(len(labels)):\n",
    "            if labels[j]==i:\n",
    "                templ.append(labels[j])\n",
    "                tempd.append(vals[j])\n",
    "                coun+=1\n",
    "            if coun==brac:\n",
    "                break\n",
    "vals=tempd\n",
    "labels=templ\n",
    "#Đoạn mã mà bạn đã cung cấp có vẻ như đang thực hiện một quá trình lấy mẫu từ dữ liệu ban đầu để giảm số lượng dữ liệu xuống còn 600 dữ liệu cho mỗi nhãn. Dưới đây là giải thích chi tiết về đoạn mã này:\n",
    "#da = set(labels): Dòng này tạo một tập hợp (set) mới có tên là da chứa tất cả các giá trị duy nhất từ danh sách labels. Điều này đang xác định tất cả các nhãn khác nhau có trong dữ liệu.\n",
    "#brac = 600: Biến brac được đặt giá trị là 600. Đây có thể là ngưỡng cho số lượng dữ liệu bạn muốn giữ lại cho mỗi nhãn.\n",
    "#templ = [] và tempd = []: Hai danh sách trống templ và tempd được tạo để lưu trữ các nhãn và giá trị thuộc tính tương ứng của dữ liệu được lấy mẫu.\n",
    "#Dòng lặp for i in da:: Lặp qua từng nhãn duy nhất trong da (tập hợp các nhãn).\n",
    "#coun = 0: Biến coun được khởi tạo với giá trị 0 để theo dõi số lượng dữ liệu đã được lấy mẫu cho mỗi nhãn.\n",
    "#while coun < brac:: Vòng lặp while kiểm tra xem đã đủ số lượng dữ liệu (brac) cho nhãn hiện tại chưa.\n",
    "#Vòng lặp for j in range(len(labels)):: Lặp qua từng phần tử trong danh sách labels.\n",
    "#if labels[j] == i:: Kiểm tra nếu nhãn của dòng dữ liệu hiện tại là bằng với nhãn hiện đang xét.\n",
    "#templ.append(labels[j]) và tempd.append(vals[j]): Nếu điều kiện trên đúng, thì nhãn và giá trị thuộc tính tương ứng được thêm vào danh sách templ và tempd.\n",
    "#coun += 1: Tăng biến coun lên mỗi khi một dòng dữ liệu được thêm vào danh sách lấy mẫu.\n",
    "#if coun == brac: break: Kiểm tra nếu đã đủ số lượng dữ liệu cho nhãn hiện tại (coun bằng brac), thì thoát khỏi vòng lặp.\n",
    "#vals = tempd và labels = templ: Sau khi lấy mẫu xong, danh sách vals và labels được cập nhật để chứa các giá trị và nhãn được lấy mẫu.\n",
    "#Cuối cùng, bạn sẽ có vals và labels chứa mẫu dữ liệu giảm xuống còn 600 dữ liệu cho mỗi nhãn. Điều này có thể hữu ích nếu bạn muốn giảm kích thước của dữ liệu để giảm bớt độ phức tạp của mô hình hoặc để tăng tốc quá trình đào tạo."
   ]
  },
  {
   "cell_type": "code",
   "execution_count": 6,
   "metadata": {},
   "outputs": [
    {
     "name": "stdout",
     "output_type": "stream",
     "text": [
      "3000\n"
     ]
    }
   ],
   "source": [
    "l=len(vals)\n",
    "print(l)"
   ]
  },
  {
   "cell_type": "code",
   "execution_count": 7,
   "metadata": {},
   "outputs": [],
   "source": [
    "X_train, X_test, Y_train, Y_test = train_test_split(\n",
    "    vals, labels, stratify=labels, test_size=0.2, random_state=0\n",
    ")\n",
    "#Đoạn mã trên sử dụng hàm train_test_split từ thư viện scikit-learn để chia dữ liệu thành tập huấn luyện (X_train, Y_train) và tập kiểm tra (X_test, Y_test)\n",
    "#vals: Dữ liệu giá trị thuộc tính được chia thành hai phần, một cho tập huấn luyện và một cho tập kiểm tra.\n",
    "#labels: Dữ liệu nhãn tương ứng với giá trị thuộc tính, cũng được chia thành tập huấn luyện và tập kiểm tra.\n",
    "#stratify=labels: Tham số này đảm bảo rằng tỷ lệ giữa các lớp nhãn được duy trì trong cả tập huấn luyện và tập kiểm tra. Điều này quan trọng khi bạn có một số lượng lớn dữ liệu và muốn đảm bảo rằng phân phối của các lớp không bị thay đổi khi chia dữ liệu.\n",
    "#test_size=0.2: Tỉ lệ của dữ liệu sẽ được chia thành tập kiểm tra, ở đây là 20%. Còn lại (80%) sẽ được sử dụng cho tập huấn luyện.\n",
    "#random_state=0: Seed để đảm bảo rằng quá trình chia dữ liệu là nhất quán khi chạy lại mã. Nếu bạn sử dụng cùng một giá trị random_state, bạn sẽ nhận được kết quả chia dữ liệu giống nhau mỗi lần chạy.\n",
    "#au khi chạy đoạn mã này, bạn sẽ có X_train, X_test, Y_train, và Y_test để sử dụng trong việc xây dựng và đánh giá mô hình của mình. X_train và Y_train chứa dữ liệu huấn luyện, trong khi X_test và Y_test chứa dữ liệu kiểm tra."
   ]
  },
  {
   "cell_type": "code",
   "execution_count": 8,
   "metadata": {},
   "outputs": [],
   "source": [
    "scaler=StandardScaler()\n",
    "x_train=scaler.fit_transform(X_train)\n",
    "x_test=scaler.transform(X_test)\n",
    "y_train=np.array(Y_train)\n",
    "y_test=np.array(Y_test)\n",
    "#Đoạn mã trên thực hiện quá trình chuẩn hóa dữ liệu sử dụng StandardScaler từ scikit-learn. Chuẩn hóa dữ liệu là một bước quan trọng trong nhiều mô hình học máy để đảm bảo rằng các đặc trưng có cùng đơn vị đo và giảm thiểu ảnh hưởng của biên độ lớn của một đặc trưng so với các đặc trưng khác. Dưới đây là giải thích chi tiết:\n",
    "#scaler = StandardScaler(): Tạo một đối tượng StandardScaler, đây là một bộ chuẩn hóa có sẵn trong scikit-learn. Bộ chuẩn hóa này sẽ được sử dụng để thực hiện quá trình chuẩn hóa dữ liệu.\n",
    "#x_train = scaler.fit_transform(X_train): Thực hiện quá trình chuẩn hóa trên tập huấn luyện (X_train). Hàm fit_transform đồng thời tính toán các tham số của chuẩn hóa (trung bình và độ lệch chuẩn) dựa trên dữ liệu huấn luyện và áp dụng chuẩn hóa cho dữ liệu huấn luyện. Kết quả là x_train chứa dữ liệu đã được chuẩn hóa.\n",
    "#x_test = scaler.transform(X_test): Áp dụng các tham số chuẩn hóa đã được học từ tập huấn luyện lên tập kiểm tra (X_test). Hàm transform chỉ áp dụng chuẩn hóa mà không tính toán lại các tham số, vì chúng ta đã tính toán chúng từ tập huấn luyện.\n",
    "#y_train = np.array(Y_train): Chuyển đổi danh sách nhãn huấn luyện (Y_train) thành một mảng NumPy. Một số mô hình học máy yêu cầu dữ liệu nhãn ở dạng mảng NumPy thay vì danh sách Python.\n",
    "#y_test = np.array(Y_test): Chuyển đổi danh sách nhãn kiểm tra (Y_test) thành một mảng NumPy.\n",
    "#Kết quả của các phần này là x_train, x_test, y_train, và y_test là dữ liệu đã được chuẩn hóa và chuyển đổi thành định dạng phù hợp để sử dụng trong quá trình huấn luyện và kiểm tra mô hình. Đối với các mô hình yêu cầu dữ liệu có cùng đơn vị đo và có dạng phân phối chuẩn, việc chuẩn hóa dữ liệu thường là quan trọng để đảm bảo hiệu suất tốt của mô hình."
   ]
  },
  {
   "cell_type": "code",
   "execution_count": 9,
   "metadata": {},
   "outputs": [
    {
     "data": {
      "text/html": [
       "<style>#sk-container-id-1 {color: black;}#sk-container-id-1 pre{padding: 0;}#sk-container-id-1 div.sk-toggleable {background-color: white;}#sk-container-id-1 label.sk-toggleable__label {cursor: pointer;display: block;width: 100%;margin-bottom: 0;padding: 0.3em;box-sizing: border-box;text-align: center;}#sk-container-id-1 label.sk-toggleable__label-arrow:before {content: \"▸\";float: left;margin-right: 0.25em;color: #696969;}#sk-container-id-1 label.sk-toggleable__label-arrow:hover:before {color: black;}#sk-container-id-1 div.sk-estimator:hover label.sk-toggleable__label-arrow:before {color: black;}#sk-container-id-1 div.sk-toggleable__content {max-height: 0;max-width: 0;overflow: hidden;text-align: left;background-color: #f0f8ff;}#sk-container-id-1 div.sk-toggleable__content pre {margin: 0.2em;color: black;border-radius: 0.25em;background-color: #f0f8ff;}#sk-container-id-1 input.sk-toggleable__control:checked~div.sk-toggleable__content {max-height: 200px;max-width: 100%;overflow: auto;}#sk-container-id-1 input.sk-toggleable__control:checked~label.sk-toggleable__label-arrow:before {content: \"▾\";}#sk-container-id-1 div.sk-estimator input.sk-toggleable__control:checked~label.sk-toggleable__label {background-color: #d4ebff;}#sk-container-id-1 div.sk-label input.sk-toggleable__control:checked~label.sk-toggleable__label {background-color: #d4ebff;}#sk-container-id-1 input.sk-hidden--visually {border: 0;clip: rect(1px 1px 1px 1px);clip: rect(1px, 1px, 1px, 1px);height: 1px;margin: -1px;overflow: hidden;padding: 0;position: absolute;width: 1px;}#sk-container-id-1 div.sk-estimator {font-family: monospace;background-color: #f0f8ff;border: 1px dotted black;border-radius: 0.25em;box-sizing: border-box;margin-bottom: 0.5em;}#sk-container-id-1 div.sk-estimator:hover {background-color: #d4ebff;}#sk-container-id-1 div.sk-parallel-item::after {content: \"\";width: 100%;border-bottom: 1px solid gray;flex-grow: 1;}#sk-container-id-1 div.sk-label:hover label.sk-toggleable__label {background-color: #d4ebff;}#sk-container-id-1 div.sk-serial::before {content: \"\";position: absolute;border-left: 1px solid gray;box-sizing: border-box;top: 0;bottom: 0;left: 50%;z-index: 0;}#sk-container-id-1 div.sk-serial {display: flex;flex-direction: column;align-items: center;background-color: white;padding-right: 0.2em;padding-left: 0.2em;position: relative;}#sk-container-id-1 div.sk-item {position: relative;z-index: 1;}#sk-container-id-1 div.sk-parallel {display: flex;align-items: stretch;justify-content: center;background-color: white;position: relative;}#sk-container-id-1 div.sk-item::before, #sk-container-id-1 div.sk-parallel-item::before {content: \"\";position: absolute;border-left: 1px solid gray;box-sizing: border-box;top: 0;bottom: 0;left: 50%;z-index: -1;}#sk-container-id-1 div.sk-parallel-item {display: flex;flex-direction: column;z-index: 1;position: relative;background-color: white;}#sk-container-id-1 div.sk-parallel-item:first-child::after {align-self: flex-end;width: 50%;}#sk-container-id-1 div.sk-parallel-item:last-child::after {align-self: flex-start;width: 50%;}#sk-container-id-1 div.sk-parallel-item:only-child::after {width: 0;}#sk-container-id-1 div.sk-dashed-wrapped {border: 1px dashed gray;margin: 0 0.4em 0.5em 0.4em;box-sizing: border-box;padding-bottom: 0.4em;background-color: white;}#sk-container-id-1 div.sk-label label {font-family: monospace;font-weight: bold;display: inline-block;line-height: 1.2em;}#sk-container-id-1 div.sk-label-container {text-align: center;}#sk-container-id-1 div.sk-container {/* jupyter's `normalize.less` sets `[hidden] { display: none; }` but bootstrap.min.css set `[hidden] { display: none !important; }` so we also need the `!important` here to be able to override the default hidden behavior on the sphinx rendered scikit-learn.org. See: https://github.com/scikit-learn/scikit-learn/issues/21755 */display: inline-block !important;position: relative;}#sk-container-id-1 div.sk-text-repr-fallback {display: none;}</style><div id=\"sk-container-id-1\" class=\"sk-top-container\"><div class=\"sk-text-repr-fallback\"><pre>SVC(gamma=&#x27;auto&#x27;, kernel=&#x27;sigmoid&#x27;)</pre><b>In a Jupyter environment, please rerun this cell to show the HTML representation or trust the notebook. <br />On GitHub, the HTML representation is unable to render, please try loading this page with nbviewer.org.</b></div><div class=\"sk-container\" hidden><div class=\"sk-item\"><div class=\"sk-estimator sk-toggleable\"><input class=\"sk-toggleable__control sk-hidden--visually\" id=\"sk-estimator-id-1\" type=\"checkbox\" checked><label for=\"sk-estimator-id-1\" class=\"sk-toggleable__label sk-toggleable__label-arrow\">SVC</label><div class=\"sk-toggleable__content\"><pre>SVC(gamma=&#x27;auto&#x27;, kernel=&#x27;sigmoid&#x27;)</pre></div></div></div></div></div>"
      ],
      "text/plain": [
       "SVC(gamma='auto', kernel='sigmoid')"
      ]
     },
     "execution_count": 9,
     "metadata": {},
     "output_type": "execute_result"
    }
   ],
   "source": [
    "model=SVC(kernel='sigmoid',gamma='auto')\n",
    "model.fit(x_train,y_train)\n",
    "#Đoạn mã trên sử dụng mô hình Support Vector Classification (SVC) từ thư viện scikit-learn để huấn luyện một mô hình máy học với kernel là 'sigmoid' và gamma được tự động chọn. Dưới đây là giải thích chi tiết:\n",
    "#model = SVC(kernel='sigmoid', gamma='auto'): Tạo một đối tượng mô hình Support Vector Classification (SVC) từ scikit-learn. Các tham số chính:\n",
    "#kernel='sigmoid': Chọn kernel là 'sigmoid'. Kernel là một hàm được sử dụng để đo lường sự tương đồng giữa các điểm dữ liệu trong không gian đặc trưng cao chiều.\n",
    "#gamma='auto': Chọn giá trị gamma tự động. Gamma là một tham số ảnh hưởng đến hình dạng của decision boundary. 'auto' sẽ chọn giá trị gamma dựa trên số lượng mẫu.\n",
    "#model.fit(x_train, y_train): Huấn luyện mô hình SVC trên dữ liệu huấn luyện (x_train, y_train). Hàm fit sẽ điều chỉnh mô hình để phù hợp với dữ liệu huấn luyện và học từ mẫu để tạo ra một mô hình có khả năng dự đoán trên dữ liệu mới."
   ]
  },
  {
   "cell_type": "code",
   "execution_count": 10,
   "metadata": {},
   "outputs": [],
   "source": [
    "y_pred=model.predict(x_test)\n",
    "#y_pred = model.predict(x_test): Sử dụng mô hình đã được huấn luyện để dự đoán nhãn cho dữ liệu kiểm tra (x_test). Kết quả của dự đoán được lưu trong biến y_pred.\n",
    "#Khi bạn có y_pred, đó là dự đoán của mô hình trên tập kiểm tra. Bạn có thể sử dụng kết quả này để đánh giá hiệu suất của mô hình và so sánh với nhãn thực tế (y_test)"
   ]
  },
  {
   "cell_type": "code",
   "execution_count": 11,
   "metadata": {},
   "outputs": [
    {
     "name": "stdout",
     "output_type": "stream",
     "text": [
      "77.83333333333333 %\n"
     ]
    }
   ],
   "source": [
    "print((accuracy_score(y_pred,y_test))*100,\"%\")\n",
    "#Đoạn mã trên sử dụng hàm accuracy_score từ thư viện scikit-learn để tính toán tỷ lệ chính xác của mô hình dự đoán trên tập kiểm tra và sau đó in ra màn hình. Dưới đây là giải thích chi tiết:\n",
    "#accuracy_score(y_pred, y_test): Hàm accuracy_score được sử dụng để đo lường tỷ lệ chính xác giữa các dự đoán của mô hình (y_pred) và nhãn thực tế của tập kiểm tra (y_test). Nó trả về một giá trị trong khoảng [0, 1], trong đó 1 đại diện cho tỷ lệ chính xác tuyệt đối.\n",
    "#* 100: Nhân kết quả với 100 để chuyển đổi thành phần trăm.\n",
    "#print(...): In ra màn hình kết quả tỷ lệ chính xác.\n",
    "#Ví dụ, nếu tỷ lệ chính xác là 0.85, đoạn mã sẽ in ra màn hình \"85.0%\"."
   ]
  },
  {
   "cell_type": "code",
   "execution_count": 12,
   "metadata": {},
   "outputs": [
    {
     "data": {
      "text/html": [
       "<style>#sk-container-id-2 {color: black;}#sk-container-id-2 pre{padding: 0;}#sk-container-id-2 div.sk-toggleable {background-color: white;}#sk-container-id-2 label.sk-toggleable__label {cursor: pointer;display: block;width: 100%;margin-bottom: 0;padding: 0.3em;box-sizing: border-box;text-align: center;}#sk-container-id-2 label.sk-toggleable__label-arrow:before {content: \"▸\";float: left;margin-right: 0.25em;color: #696969;}#sk-container-id-2 label.sk-toggleable__label-arrow:hover:before {color: black;}#sk-container-id-2 div.sk-estimator:hover label.sk-toggleable__label-arrow:before {color: black;}#sk-container-id-2 div.sk-toggleable__content {max-height: 0;max-width: 0;overflow: hidden;text-align: left;background-color: #f0f8ff;}#sk-container-id-2 div.sk-toggleable__content pre {margin: 0.2em;color: black;border-radius: 0.25em;background-color: #f0f8ff;}#sk-container-id-2 input.sk-toggleable__control:checked~div.sk-toggleable__content {max-height: 200px;max-width: 100%;overflow: auto;}#sk-container-id-2 input.sk-toggleable__control:checked~label.sk-toggleable__label-arrow:before {content: \"▾\";}#sk-container-id-2 div.sk-estimator input.sk-toggleable__control:checked~label.sk-toggleable__label {background-color: #d4ebff;}#sk-container-id-2 div.sk-label input.sk-toggleable__control:checked~label.sk-toggleable__label {background-color: #d4ebff;}#sk-container-id-2 input.sk-hidden--visually {border: 0;clip: rect(1px 1px 1px 1px);clip: rect(1px, 1px, 1px, 1px);height: 1px;margin: -1px;overflow: hidden;padding: 0;position: absolute;width: 1px;}#sk-container-id-2 div.sk-estimator {font-family: monospace;background-color: #f0f8ff;border: 1px dotted black;border-radius: 0.25em;box-sizing: border-box;margin-bottom: 0.5em;}#sk-container-id-2 div.sk-estimator:hover {background-color: #d4ebff;}#sk-container-id-2 div.sk-parallel-item::after {content: \"\";width: 100%;border-bottom: 1px solid gray;flex-grow: 1;}#sk-container-id-2 div.sk-label:hover label.sk-toggleable__label {background-color: #d4ebff;}#sk-container-id-2 div.sk-serial::before {content: \"\";position: absolute;border-left: 1px solid gray;box-sizing: border-box;top: 0;bottom: 0;left: 50%;z-index: 0;}#sk-container-id-2 div.sk-serial {display: flex;flex-direction: column;align-items: center;background-color: white;padding-right: 0.2em;padding-left: 0.2em;position: relative;}#sk-container-id-2 div.sk-item {position: relative;z-index: 1;}#sk-container-id-2 div.sk-parallel {display: flex;align-items: stretch;justify-content: center;background-color: white;position: relative;}#sk-container-id-2 div.sk-item::before, #sk-container-id-2 div.sk-parallel-item::before {content: \"\";position: absolute;border-left: 1px solid gray;box-sizing: border-box;top: 0;bottom: 0;left: 50%;z-index: -1;}#sk-container-id-2 div.sk-parallel-item {display: flex;flex-direction: column;z-index: 1;position: relative;background-color: white;}#sk-container-id-2 div.sk-parallel-item:first-child::after {align-self: flex-end;width: 50%;}#sk-container-id-2 div.sk-parallel-item:last-child::after {align-self: flex-start;width: 50%;}#sk-container-id-2 div.sk-parallel-item:only-child::after {width: 0;}#sk-container-id-2 div.sk-dashed-wrapped {border: 1px dashed gray;margin: 0 0.4em 0.5em 0.4em;box-sizing: border-box;padding-bottom: 0.4em;background-color: white;}#sk-container-id-2 div.sk-label label {font-family: monospace;font-weight: bold;display: inline-block;line-height: 1.2em;}#sk-container-id-2 div.sk-label-container {text-align: center;}#sk-container-id-2 div.sk-container {/* jupyter's `normalize.less` sets `[hidden] { display: none; }` but bootstrap.min.css set `[hidden] { display: none !important; }` so we also need the `!important` here to be able to override the default hidden behavior on the sphinx rendered scikit-learn.org. See: https://github.com/scikit-learn/scikit-learn/issues/21755 */display: inline-block !important;position: relative;}#sk-container-id-2 div.sk-text-repr-fallback {display: none;}</style><div id=\"sk-container-id-2\" class=\"sk-top-container\"><div class=\"sk-text-repr-fallback\"><pre>KNeighborsClassifier()</pre><b>In a Jupyter environment, please rerun this cell to show the HTML representation or trust the notebook. <br />On GitHub, the HTML representation is unable to render, please try loading this page with nbviewer.org.</b></div><div class=\"sk-container\" hidden><div class=\"sk-item\"><div class=\"sk-estimator sk-toggleable\"><input class=\"sk-toggleable__control sk-hidden--visually\" id=\"sk-estimator-id-2\" type=\"checkbox\" checked><label for=\"sk-estimator-id-2\" class=\"sk-toggleable__label sk-toggleable__label-arrow\">KNeighborsClassifier</label><div class=\"sk-toggleable__content\"><pre>KNeighborsClassifier()</pre></div></div></div></div></div>"
      ],
      "text/plain": [
       "KNeighborsClassifier()"
      ]
     },
     "execution_count": 12,
     "metadata": {},
     "output_type": "execute_result"
    }
   ],
   "source": [
    "model1=KNeighborsClassifier(n_neighbors=5)\n",
    "model1.fit(x_train,y_train)\n",
    "#Đoạn mã trên sử dụng mô hình KNeighborsClassifier từ thư viện scikit-learn để huấn luyện một mô hình phân loại dựa trên thuật toán K-Nearest Neighbors (KNN). Dưới đây là giải thích chi tiết:\n",
    "#model1 = KNeighborsClassifier(n_neighbors=5): Tạo một đối tượng mô hình KNeighborsClassifier. Các tham số chính:\n",
    "#n_neighbors=5: Số lượng hàng xóm gần nhất mà mô hình sẽ xem xét khi đưa ra dự đoán. Trong trường hợp này, nó là 5.\n",
    "#model1.fit(x_train, y_train): Huấn luyện mô hình KNN trên dữ liệu huấn luyện (x_train, y_train). Hàm fit sẽ điều chỉnh mô hình để phù hợp với dữ liệu huấn luyện và học từ mẫu để tạo ra một mô hình có khả năng dự đoán trên dữ liệu mới."
   ]
  },
  {
   "cell_type": "code",
   "execution_count": 13,
   "metadata": {},
   "outputs": [],
   "source": [
    "y_pred1=model1.predict(x_test)"
   ]
  },
  {
   "cell_type": "code",
   "execution_count": 14,
   "metadata": {},
   "outputs": [
    {
     "name": "stdout",
     "output_type": "stream",
     "text": [
      "78.16666666666666 %\n"
     ]
    }
   ],
   "source": [
    "print((accuracy_score(y_pred1,y_test))*100,\"%\")"
   ]
  },
  {
   "cell_type": "code",
   "execution_count": 15,
   "metadata": {},
   "outputs": [
    {
     "data": {
      "text/html": [
       "<style>#sk-container-id-3 {color: black;}#sk-container-id-3 pre{padding: 0;}#sk-container-id-3 div.sk-toggleable {background-color: white;}#sk-container-id-3 label.sk-toggleable__label {cursor: pointer;display: block;width: 100%;margin-bottom: 0;padding: 0.3em;box-sizing: border-box;text-align: center;}#sk-container-id-3 label.sk-toggleable__label-arrow:before {content: \"▸\";float: left;margin-right: 0.25em;color: #696969;}#sk-container-id-3 label.sk-toggleable__label-arrow:hover:before {color: black;}#sk-container-id-3 div.sk-estimator:hover label.sk-toggleable__label-arrow:before {color: black;}#sk-container-id-3 div.sk-toggleable__content {max-height: 0;max-width: 0;overflow: hidden;text-align: left;background-color: #f0f8ff;}#sk-container-id-3 div.sk-toggleable__content pre {margin: 0.2em;color: black;border-radius: 0.25em;background-color: #f0f8ff;}#sk-container-id-3 input.sk-toggleable__control:checked~div.sk-toggleable__content {max-height: 200px;max-width: 100%;overflow: auto;}#sk-container-id-3 input.sk-toggleable__control:checked~label.sk-toggleable__label-arrow:before {content: \"▾\";}#sk-container-id-3 div.sk-estimator input.sk-toggleable__control:checked~label.sk-toggleable__label {background-color: #d4ebff;}#sk-container-id-3 div.sk-label input.sk-toggleable__control:checked~label.sk-toggleable__label {background-color: #d4ebff;}#sk-container-id-3 input.sk-hidden--visually {border: 0;clip: rect(1px 1px 1px 1px);clip: rect(1px, 1px, 1px, 1px);height: 1px;margin: -1px;overflow: hidden;padding: 0;position: absolute;width: 1px;}#sk-container-id-3 div.sk-estimator {font-family: monospace;background-color: #f0f8ff;border: 1px dotted black;border-radius: 0.25em;box-sizing: border-box;margin-bottom: 0.5em;}#sk-container-id-3 div.sk-estimator:hover {background-color: #d4ebff;}#sk-container-id-3 div.sk-parallel-item::after {content: \"\";width: 100%;border-bottom: 1px solid gray;flex-grow: 1;}#sk-container-id-3 div.sk-label:hover label.sk-toggleable__label {background-color: #d4ebff;}#sk-container-id-3 div.sk-serial::before {content: \"\";position: absolute;border-left: 1px solid gray;box-sizing: border-box;top: 0;bottom: 0;left: 50%;z-index: 0;}#sk-container-id-3 div.sk-serial {display: flex;flex-direction: column;align-items: center;background-color: white;padding-right: 0.2em;padding-left: 0.2em;position: relative;}#sk-container-id-3 div.sk-item {position: relative;z-index: 1;}#sk-container-id-3 div.sk-parallel {display: flex;align-items: stretch;justify-content: center;background-color: white;position: relative;}#sk-container-id-3 div.sk-item::before, #sk-container-id-3 div.sk-parallel-item::before {content: \"\";position: absolute;border-left: 1px solid gray;box-sizing: border-box;top: 0;bottom: 0;left: 50%;z-index: -1;}#sk-container-id-3 div.sk-parallel-item {display: flex;flex-direction: column;z-index: 1;position: relative;background-color: white;}#sk-container-id-3 div.sk-parallel-item:first-child::after {align-self: flex-end;width: 50%;}#sk-container-id-3 div.sk-parallel-item:last-child::after {align-self: flex-start;width: 50%;}#sk-container-id-3 div.sk-parallel-item:only-child::after {width: 0;}#sk-container-id-3 div.sk-dashed-wrapped {border: 1px dashed gray;margin: 0 0.4em 0.5em 0.4em;box-sizing: border-box;padding-bottom: 0.4em;background-color: white;}#sk-container-id-3 div.sk-label label {font-family: monospace;font-weight: bold;display: inline-block;line-height: 1.2em;}#sk-container-id-3 div.sk-label-container {text-align: center;}#sk-container-id-3 div.sk-container {/* jupyter's `normalize.less` sets `[hidden] { display: none; }` but bootstrap.min.css set `[hidden] { display: none !important; }` so we also need the `!important` here to be able to override the default hidden behavior on the sphinx rendered scikit-learn.org. See: https://github.com/scikit-learn/scikit-learn/issues/21755 */display: inline-block !important;position: relative;}#sk-container-id-3 div.sk-text-repr-fallback {display: none;}</style><div id=\"sk-container-id-3\" class=\"sk-top-container\"><div class=\"sk-text-repr-fallback\"><pre>GaussianNB()</pre><b>In a Jupyter environment, please rerun this cell to show the HTML representation or trust the notebook. <br />On GitHub, the HTML representation is unable to render, please try loading this page with nbviewer.org.</b></div><div class=\"sk-container\" hidden><div class=\"sk-item\"><div class=\"sk-estimator sk-toggleable\"><input class=\"sk-toggleable__control sk-hidden--visually\" id=\"sk-estimator-id-3\" type=\"checkbox\" checked><label for=\"sk-estimator-id-3\" class=\"sk-toggleable__label sk-toggleable__label-arrow\">GaussianNB</label><div class=\"sk-toggleable__content\"><pre>GaussianNB()</pre></div></div></div></div></div>"
      ],
      "text/plain": [
       "GaussianNB()"
      ]
     },
     "execution_count": 15,
     "metadata": {},
     "output_type": "execute_result"
    }
   ],
   "source": [
    "model2=GaussianNB()\n",
    "model2.fit(x_train,y_train)\n",
    "#Đoạn mã trên sử dụng mô hình GaussianNB từ thư viện scikit-learn để huấn luyện một mô hình phân loại dựa trên thuật toán Gaussian Naive Bayes. Dưới đây là giải thích chi tiết:\n",
    "#model2 = GaussianNB(): Tạo một đối tượng mô hình GaussianNB. Đây là một mô hình phân loại Naive Bayes sử dụng giả định Gaussian cho phân phối của đặc trưng.\n",
    "#model2.fit(x_train, y_train): Huấn luyện mô hình Naive Bayes trên dữ liệu huấn luyện (x_train, y_train). Hàm fit sẽ điều chỉnh mô hình để phù hợp với dữ liệu huấn luyện và học từ mẫu để tạo ra một mô hình có khả năng dự đoán trên dữ liệu mới."
   ]
  },
  {
   "cell_type": "code",
   "execution_count": 16,
   "metadata": {},
   "outputs": [],
   "source": [
    "y_pred2=model2.predict(x_test)"
   ]
  },
  {
   "cell_type": "code",
   "execution_count": 17,
   "metadata": {},
   "outputs": [
    {
     "name": "stdout",
     "output_type": "stream",
     "text": [
      "81.5 %\n"
     ]
    }
   ],
   "source": [
    "print((accuracy_score(y_pred2,y_test))*100,\"%\")"
   ]
  },
  {
   "cell_type": "code",
   "execution_count": 18,
   "metadata": {},
   "outputs": [],
   "source": [
    "train_x,val_x,train_y,val_y=train_test_split(x_train,y_train,stratify=y_train,test_size=0.2,random_state=0)"
   ]
  },
  {
   "cell_type": "code",
   "execution_count": 19,
   "metadata": {},
   "outputs": [
    {
     "name": "stdout",
     "output_type": "stream",
     "text": [
      "(2400, 27) (600, 27)\n"
     ]
    }
   ],
   "source": [
    "print(x_train.shape,x_test.shape)\n",
    "#x_train.shape: Kích thước (số hàng, số cột) của tập dữ liệu đặc trưng x_train. Đoạn mã này in ra kích thước của tập huấn luyện.\n",
    "#x_test.shape: Kích thước (số hàng, số cột) của tập dữ liệu đặc trưng x_test"
   ]
  },
  {
   "cell_type": "code",
   "execution_count": 20,
   "metadata": {},
   "outputs": [],
   "source": [
    "columns=['SRC_ADD','DES_ADD','PKT_ID','FROM_NODE','TO_NODE','PKT_TYPE','PKT_SIZE',\n",
    "         'FLAGS','FID','SEQ_NUMBER','NUMBER_OF_PKT','NUMBER_OF_BYTE','NODE_NAME_FROM',\n",
    "         'NODE_NAME_TO','PKT_IN','PKT_OUT','PKT_R','PKT_DELAY_NODE','PKT_RATE','BYTE_RATE',\n",
    "         'PKT_AVG_SIZE','ULTILIZATION','PKT_DELAY','PKT_SEND_TIME','PKT_RESERVED_TIME',\n",
    "         'FIRST_PKT_SENT','LAST_PKT_RESERVED']"
   ]
  },
  {
   "cell_type": "code",
   "execution_count": 21,
   "metadata": {},
   "outputs": [],
   "source": [
    "model1=SVC(kernel='sigmoid',gamma='auto')\n",
    "model1.fit(train_x,train_y)\n",
    "y_val_pred1=model1.predict(val_x)\n",
    "y_val_pred1=pd.DataFrame(y_val_pred1)\n",
    "y_test_pred1=model1.predict(x_test)\n",
    "y_test_pred1=pd.DataFrame(y_test_pred1)"
   ]
  },
  {
   "cell_type": "code",
   "execution_count": 22,
   "metadata": {},
   "outputs": [],
   "source": [
    "model2=KNeighborsClassifier(n_neighbors=5)\n",
    "model2.fit(train_x,train_y)\n",
    "y_val_pred2=model2.predict(val_x)\n",
    "y_val_pred2=pd.DataFrame(y_val_pred2)\n",
    "y_test_pred2=model2.predict(x_test)\n",
    "y_test_pred2=pd.DataFrame(y_test_pred2)"
   ]
  },
  {
   "cell_type": "code",
   "execution_count": 23,
   "metadata": {},
   "outputs": [],
   "source": [
    "model3=GaussianNB()\n",
    "model3.fit(train_x,train_y)\n",
    "y_val_pred3=model3.predict(val_x)\n",
    "y_val_pred3=pd.DataFrame(y_val_pred3)\n",
    "y_test_pred3=model3.predict(x_test)\n",
    "y_test_pred3=pd.DataFrame(y_test_pred3)"
   ]
  },
  {
   "cell_type": "code",
   "execution_count": 24,
   "metadata": {},
   "outputs": [],
   "source": [
    "val_input=pd.concat([pd.DataFrame(val_x,columns=columns),\n",
    "                     y_val_pred1,y_val_pred2,y_val_pred3],axis=1)\n",
    "test_input=pd.concat([pd.DataFrame(x_test,columns=columns),\n",
    "                      y_test_pred1,y_test_pred2,y_test_pred3],axis=1)\n",
    "#Đoạn mã trên tạo ra hai DataFrame mới (val_input và test_input) bằng cách kết hợp dữ liệu đặc trưng và dự đoán từ các mô hình đã huấn luyện. Dưới đây là giải thích chi tiết:\n",
    "#pd.concat([...], axis=1):\n",
    "#pd.concat là một hàm trong thư viện pandas được sử dụng để nối các đối tượng DataFrame theo dòng hoặc cột.\n",
    "#axis=1 chỉ định rằng nối theo cột.\n",
    "#pd.DataFrame(val_x, columns=columns):\n",
    "#Tạo DataFrame từ dữ liệu đặc trưng của tập kiểm tra xác thực (val_x) và sử dụng columns làm tên cột.\n",
    "#y_val_pred1, y_val_pred2, y_val_pred3:\n",
    "#Các DataFrame chứa dự đoán từ các mô hình khác nhau (y_val_pred1, y_val_pred2, y_val_pred3).\n",
    "#pd.concat([...], axis=1):\n",
    "#Nối các DataFrame đã tạo thành một DataFrame lớn val_input. Các cột sẽ lần lượt là dữ liệu đặc trưng, dự đoán từ y_val_pred1, y_val_pred2, và y_val_pred3.\n",
    "#Tương tự, đoạn mã tạo DataFrame test_input cho tập kiểm tra (x_test và dự đoán từ các mô hình tương ứng). Cả hai DataFrame này có thể được sử dụng để tiếp tục quá trình đánh giá và kiểm thử mô hình trên dữ liệu không nhìn thấy trước."
   ]
  },
  {
   "cell_type": "code",
   "execution_count": 25,
   "metadata": {},
   "outputs": [
    {
     "data": {
      "text/html": [
       "<style>#sk-container-id-4 {color: black;}#sk-container-id-4 pre{padding: 0;}#sk-container-id-4 div.sk-toggleable {background-color: white;}#sk-container-id-4 label.sk-toggleable__label {cursor: pointer;display: block;width: 100%;margin-bottom: 0;padding: 0.3em;box-sizing: border-box;text-align: center;}#sk-container-id-4 label.sk-toggleable__label-arrow:before {content: \"▸\";float: left;margin-right: 0.25em;color: #696969;}#sk-container-id-4 label.sk-toggleable__label-arrow:hover:before {color: black;}#sk-container-id-4 div.sk-estimator:hover label.sk-toggleable__label-arrow:before {color: black;}#sk-container-id-4 div.sk-toggleable__content {max-height: 0;max-width: 0;overflow: hidden;text-align: left;background-color: #f0f8ff;}#sk-container-id-4 div.sk-toggleable__content pre {margin: 0.2em;color: black;border-radius: 0.25em;background-color: #f0f8ff;}#sk-container-id-4 input.sk-toggleable__control:checked~div.sk-toggleable__content {max-height: 200px;max-width: 100%;overflow: auto;}#sk-container-id-4 input.sk-toggleable__control:checked~label.sk-toggleable__label-arrow:before {content: \"▾\";}#sk-container-id-4 div.sk-estimator input.sk-toggleable__control:checked~label.sk-toggleable__label {background-color: #d4ebff;}#sk-container-id-4 div.sk-label input.sk-toggleable__control:checked~label.sk-toggleable__label {background-color: #d4ebff;}#sk-container-id-4 input.sk-hidden--visually {border: 0;clip: rect(1px 1px 1px 1px);clip: rect(1px, 1px, 1px, 1px);height: 1px;margin: -1px;overflow: hidden;padding: 0;position: absolute;width: 1px;}#sk-container-id-4 div.sk-estimator {font-family: monospace;background-color: #f0f8ff;border: 1px dotted black;border-radius: 0.25em;box-sizing: border-box;margin-bottom: 0.5em;}#sk-container-id-4 div.sk-estimator:hover {background-color: #d4ebff;}#sk-container-id-4 div.sk-parallel-item::after {content: \"\";width: 100%;border-bottom: 1px solid gray;flex-grow: 1;}#sk-container-id-4 div.sk-label:hover label.sk-toggleable__label {background-color: #d4ebff;}#sk-container-id-4 div.sk-serial::before {content: \"\";position: absolute;border-left: 1px solid gray;box-sizing: border-box;top: 0;bottom: 0;left: 50%;z-index: 0;}#sk-container-id-4 div.sk-serial {display: flex;flex-direction: column;align-items: center;background-color: white;padding-right: 0.2em;padding-left: 0.2em;position: relative;}#sk-container-id-4 div.sk-item {position: relative;z-index: 1;}#sk-container-id-4 div.sk-parallel {display: flex;align-items: stretch;justify-content: center;background-color: white;position: relative;}#sk-container-id-4 div.sk-item::before, #sk-container-id-4 div.sk-parallel-item::before {content: \"\";position: absolute;border-left: 1px solid gray;box-sizing: border-box;top: 0;bottom: 0;left: 50%;z-index: -1;}#sk-container-id-4 div.sk-parallel-item {display: flex;flex-direction: column;z-index: 1;position: relative;background-color: white;}#sk-container-id-4 div.sk-parallel-item:first-child::after {align-self: flex-end;width: 50%;}#sk-container-id-4 div.sk-parallel-item:last-child::after {align-self: flex-start;width: 50%;}#sk-container-id-4 div.sk-parallel-item:only-child::after {width: 0;}#sk-container-id-4 div.sk-dashed-wrapped {border: 1px dashed gray;margin: 0 0.4em 0.5em 0.4em;box-sizing: border-box;padding-bottom: 0.4em;background-color: white;}#sk-container-id-4 div.sk-label label {font-family: monospace;font-weight: bold;display: inline-block;line-height: 1.2em;}#sk-container-id-4 div.sk-label-container {text-align: center;}#sk-container-id-4 div.sk-container {/* jupyter's `normalize.less` sets `[hidden] { display: none; }` but bootstrap.min.css set `[hidden] { display: none !important; }` so we also need the `!important` here to be able to override the default hidden behavior on the sphinx rendered scikit-learn.org. See: https://github.com/scikit-learn/scikit-learn/issues/21755 */display: inline-block !important;position: relative;}#sk-container-id-4 div.sk-text-repr-fallback {display: none;}</style><div id=\"sk-container-id-4\" class=\"sk-top-container\"><div class=\"sk-text-repr-fallback\"><pre>RandomForestClassifier(n_estimators=200)</pre><b>In a Jupyter environment, please rerun this cell to show the HTML representation or trust the notebook. <br />On GitHub, the HTML representation is unable to render, please try loading this page with nbviewer.org.</b></div><div class=\"sk-container\" hidden><div class=\"sk-item\"><div class=\"sk-estimator sk-toggleable\"><input class=\"sk-toggleable__control sk-hidden--visually\" id=\"sk-estimator-id-4\" type=\"checkbox\" checked><label for=\"sk-estimator-id-4\" class=\"sk-toggleable__label sk-toggleable__label-arrow\">RandomForestClassifier</label><div class=\"sk-toggleable__content\"><pre>RandomForestClassifier(n_estimators=200)</pre></div></div></div></div></div>"
      ],
      "text/plain": [
       "RandomForestClassifier(n_estimators=200)"
      ]
     },
     "execution_count": 25,
     "metadata": {},
     "output_type": "execute_result"
    }
   ],
   "source": [
    "val_input.columns = val_input.columns.astype(str)\n",
    "model=RandomForestClassifier(n_estimators=200)\n",
    "model.fit(val_input,val_y)\n",
    "#Đoạn mã tiếp theo sau việc tạo DataFrame val_input chứa dữ liệu đặc trưng và dự đoán từ các mô hình khác nhau. Dưới đây là giải thích chi tiết:\n",
    "#val_input.columns = val_input.columns.astype(str):\n",
    "#Chuyển đổi tất cả tên cột trong DataFrame val_input thành kiểu dữ liệu chuỗi (string). Điều này có thể được thực hiện để đảm bảo rằng các tên cột là chuỗi, đặc biệt là khi bạn đang sử dụng mô hình RandomForestClassifier, vì nó yêu cầu tên cột là chuỗi.\n",
    "#model = RandomForestClassifier(n_estimators=200):\n",
    "#Khởi tạo một đối tượng mô hình RandomForestClassifier với 200 cây quyết định (n_estimators=200). RandomForest là một mô hình học máy sử dụng nhiều cây quyết định để đưa ra dự đoán.\n",
    "#model.fit(val_input, val_y):\n",
    "#Huấn luyện mô hình RandomForestClassifier trên dữ liệu huấn luyện (val_input, val_y). Dữ liệu đặc trưng val_input chứa dữ liệu đặc trưng và dự đoán từ các mô hình trước đó, và val_y là nhãn tương ứng với tập kiểm tra xác thực."
   ]
  },
  {
   "cell_type": "code",
   "execution_count": 26,
   "metadata": {},
   "outputs": [
    {
     "name": "stdout",
     "output_type": "stream",
     "text": [
      "80.33333333333333 %\n"
     ]
    }
   ],
   "source": [
    "test_input.columns = test_input.columns.astype(str)\n",
    "print((model.score(test_input,y_test))*100,\"%\")\n",
    "#Đoạn mã tiếp tục sau khi đã huấn luyện mô hình RandomForestClassifier trên dữ liệu xác thực (val_input và val_y). Dưới đây là giải thích chi tiết:\n",
    "#test_input.columns = test_input.columns.astype(str):\n",
    "#Tương tự như trước, đoạn mã này chuyển đổi tất cả tên cột trong DataFrame test_input thành kiểu dữ liệu chuỗi (string). Điều này là để đảm bảo rằng các tên cột của test_input có cùng kiểu dữ liệu chuỗi như đã làm với val_input.\n",
    "#print((model.score(test_input, y_test))*100, \"%\"):\n",
    "#model.score(test_input, y_test): Sử dụng phương thức score của mô hình RandomForestClassifier để đo lường độ chính xác trên tập kiểm tra (test_input). Phương thức này trả về tỷ lệ dự đoán đúng so với nhãn thực tế.\n",
    "#* 100: Nhân kết quả với 100 để chuyển đổi thành phần trăm.\n",
    "#print(...): In ra màn hình tỷ lệ chính xác của mô hình trên tập kiểm tra."
   ]
  }
 ],
 "metadata": {
  "kernelspec": {
   "display_name": "Python 3",
   "language": "python",
   "name": "python3"
  },
  "language_info": {
   "codemirror_mode": {
    "name": "ipython",
    "version": 3
   },
   "file_extension": ".py",
   "mimetype": "text/x-python",
   "name": "python",
   "nbconvert_exporter": "python",
   "pygments_lexer": "ipython3",
   "version": "3.11.4"
  }
 },
 "nbformat": 4,
 "nbformat_minor": 2
}
